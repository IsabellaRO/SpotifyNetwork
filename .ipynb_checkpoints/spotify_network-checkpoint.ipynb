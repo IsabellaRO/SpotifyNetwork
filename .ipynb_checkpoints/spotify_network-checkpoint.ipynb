{
 "cells": [
  {
   "cell_type": "code",
   "execution_count": 7,
   "metadata": {},
   "outputs": [],
   "source": [
    "from queue import Queue\n",
    "\n",
    "from unidecode import unidecode\n",
    "import networkx as nx\n",
    "import spotipy #https://spotipy.readthedocs.io/en/latest/\n",
    "from spotipy.oauth2 import SpotifyClientCredentials"
   ]
  },
  {
   "cell_type": "code",
   "execution_count": 11,
   "metadata": {},
   "outputs": [],
   "source": [
    "# Charles profile link:\n",
    "# https://open.spotify.com/user/12167056236?si=BfbG8v9wRsOTnilpjP9ibg\n",
    "# spotify:user:12167056236:playlist:1ahkvZq6vSkYCmqHiPpLJn\n",
    "charles_id = '12167056236'\n",
    "\n",
    "# Jazz playlist link:\n",
    "# https://open.spotify.com/user/12167056236/playlist/2ek4gj4PDBF4aspnYWfBmC?si=eq_YK6V8SdKiuhu1zj5VPA\n",
    "# spotify:user:12167056236:playlist:2ek4gj4PDBF4aspnYWfBmC\n",
    "jazz_id = '2ek4gj4PDBF4aspnYWfBmC'\n",
    "\n",
    "# Bossa nova playlist link:\n",
    "# https://open.spotify.com/user/12167056236/playlist/1ahkvZq6vSkYCmqHiPpLJn?si=DQT4XTRYSwWagYejOs34Ew\n",
    "bossanova_id = '1ahkvZq6vSkYCmqHiPpLJn'"
   ]
  },
  {
   "cell_type": "code",
   "execution_count": 8,
   "metadata": {},
   "outputs": [],
   "source": [
    "# client_credentials_manager = SpotifyClientCredentials(client_id='943e4795c796489f9243c6e7c9f64fc7', client_secret='c6c980434cb74acc9a7408e5c99618b1')\n",
    "# sp = spotipy.Spotify(client_credentials_manager=client_credentials_manager)\n",
    "# spotify:user:12167056236:playlist:2ek4gj4PDBF4aspnYWfBmC"
   ]
  },
  {
   "cell_type": "code",
   "execution_count": null,
   "metadata": {},
   "outputs": [],
   "source": []
  },
  {
   "cell_type": "code",
   "execution_count": 9,
   "metadata": {},
   "outputs": [],
   "source": [
    "# playlists = sp.user_playlists('spotify')\n",
    "# tracks = user_playlist_tracks(user = 12167056236, playlist_id=2ek4gj4PDBF4aspnYWfBmC?si=j-MSydgGR1O3KgIUea6Yzw)"
   ]
  },
  {
   "cell_type": "code",
   "execution_count": null,
   "metadata": {},
   "outputs": [],
   "source": []
  },
  {
   "cell_type": "code",
   "execution_count": 15,
   "metadata": {},
   "outputs": [
    {
     "name": "stdout",
     "output_type": "stream",
     "text": [
      "{'display_name': 'Charles Kirschbaum', 'external_urls': {'spotify': 'https://open.spotify.com/user/12167056236'}, 'followers': {'href': None, 'total': 61}, 'href': 'https://api.spotify.com/v1/users/12167056236', 'id': '12167056236', 'images': [{'height': None, 'url': 'https://scontent.xx.fbcdn.net/v/t1.0-1/p200x200/46053368_10156715593549210_7951146811895316480_n.jpg?_nc_cat=111&_nc_ht=scontent.xx&oh=d63b475960781aefdf041c33b3c6cc35&oe=5C6FFEBF', 'width': None}], 'type': 'user', 'uri': 'spotify:user:12167056236'}\n"
     ]
    }
   ],
   "source": [
    "client_credentials_manager = SpotifyClientCredentials(client_id='943e4795c796489f9243c6e7c9f64fc7', client_secret='c6c980434cb74acc9a7408e5c99618b1')\n",
    "sp = spotipy.Spotify(client_credentials_manager=client_credentials_manager)\n",
    "\n",
    "playlists = sp.user_playlist_tracks(user = charles_id, playlist_id = jazz_id)\n",
    "print(playlists)"
   ]
  }
 ],
 "metadata": {
  "kernelspec": {
   "display_name": "Python 3",
   "language": "python",
   "name": "python3"
  },
  "language_info": {
   "codemirror_mode": {
    "name": "ipython",
    "version": 3
   },
   "file_extension": ".py",
   "mimetype": "text/x-python",
   "name": "python",
   "nbconvert_exporter": "python",
   "pygments_lexer": "ipython3",
   "version": "3.6.6"
  }
 },
 "nbformat": 4,
 "nbformat_minor": 2
}
