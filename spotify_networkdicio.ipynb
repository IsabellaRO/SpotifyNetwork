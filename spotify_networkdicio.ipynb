{
 "cells": [
  {
   "cell_type": "code",
   "execution_count": 36,
   "metadata": {},
   "outputs": [],
   "source": [
    "from queue import Queue\n",
    "from unidecode import unidecode\n",
    "import networkx as nx\n",
    "import spotipy #https://spotipy.readthedocs.io/en/latest/\n",
    "from spotipy.oauth2 import SpotifyClientCredentials\n",
    "import statistics "
   ]
  },
  {
   "cell_type": "code",
   "execution_count": 37,
   "metadata": {},
   "outputs": [],
   "source": [
    "# Charles profile link:\n",
    "# https://open.spotify.com/user/12167056236?si=BfbG8v9wRsOTnilpjP9ibg\n",
    "# spotify:user:12167056236:playlist:1ahkvZq6vSkYCmqHiPpLJn\n",
    "charles_id = '12167056236'\n",
    "\n",
    "# Jazz playlist link:\n",
    "# https://open.spotify.com/user/12167056236/playlist/2ek4gj4PDBF4aspnYWfBmC?si=eq_YK6V8SdKiuhu1zj5VPA\n",
    "# spotify:user:12167056236:playlist:2ek4gj4PDBF4aspnYWfBmC\n",
    "jazz_id = '2ek4gj4PDBF4aspnYWfBmC'\n",
    "\n",
    "# Bossa nova playlist link:\n",
    "# https://open.spotify.com/user/12167056236/playlist/1ahkvZq6vSkYCmqHiPpLJn?si=DQT4XTRYSwWagYejOs34Ew\n",
    "bossanova_id = '1ahkvZq6vSkYCmqHiPpLJn'"
   ]
  },
  {
   "cell_type": "code",
   "execution_count": 38,
   "metadata": {},
   "outputs": [],
   "source": [
    "# client_credentials_manager = SpotifyClientCredentials(client_id='943e4795c796489f9243c6e7c9f64fc7', client_secret='c6c980434cb74acc9a7408e5c99618b1')\n",
    "# sp = spotipy.Spotify(client_credentials_manager=client_credentials_manager)\n",
    "# spotify:user:12167056236:playlist:2ek4gj4PDBF4aspnYWfBmC"
   ]
  },
  {
   "cell_type": "code",
   "execution_count": 39,
   "metadata": {},
   "outputs": [],
   "source": [
    "# playlists = sp.user_playlists('spotify')\n",
    "# tracks = user_playlist_tracks(user = 12167056236, playlist_id=2ek4gj4PDBF4aspnYWfBmC?si=j-MSydgGR1O3KgIUea6Yzw)"
   ]
  },
  {
   "cell_type": "code",
   "execution_count": 40,
   "metadata": {},
   "outputs": [],
   "source": [
    "client_credentials_manager = SpotifyClientCredentials(client_id='943e4795c796489f9243c6e7c9f64fc7', client_secret='c6c980434cb74acc9a7408e5c99618b1')\n",
    "sp = spotipy.Spotify(client_credentials_manager=client_credentials_manager)\n",
    "\n",
    "# def calc_feat_dict(results):\n",
    "#     artists_musics = {}\n",
    "#     for i, item in enumerate(results['items']):\n",
    "#         track = item['track']\n",
    "#         artists_musics[track['artists'][0]['name']] = (track['name'].split(\" - \")[0])\n",
    "#         #print(track['id'])\n",
    "#         #print(\"%d: %s - %s\" % (i, track['artists'][0]['name'], track['name'].split(\" - \")[0]))\n",
    "#     return artists_musics\n",
    "\n",
    "def calc_tuple(results):\n",
    "    artists_musics = []\n",
    "    for i, item in enumerate(results['items']):\n",
    "        track = item['track']\n",
    "        artists_musics.append((track['artists'][0]['id'], track['artists'][0]['name'], track['id'], track['name']))\n",
    "        #print((track['artists'][0]['name'], (track['name'].split(\" - \")[0])))\n",
    "    return artists_musics"
   ]
  },
  {
   "cell_type": "code",
   "execution_count": 41,
   "metadata": {
    "scrolled": true
   },
   "outputs": [],
   "source": [
    "def art_mus_dict(playlist_id):\n",
    "\n",
    "    '''\n",
    "    Cria o dicionário: {artista: [músicas]}\n",
    "    '''\n",
    "    art_mus = {}\n",
    "\n",
    "    results = sp.user_playlist(user = charles_id, playlist_id = playlist_id, fields = \"tracks, next\")\n",
    "    tracks = results['tracks']\n",
    "\n",
    "    while tracks['next']: #passa pelos 10 conjuntos de tracks\n",
    "        tracks = sp.next(tracks)\n",
    "        data = calc_tuple(tracks)    \n",
    "\n",
    "        #inicializa o dicio com o primeiro artista deste cojunto\n",
    "        for i in range(len(data)): #rodará 100 vezes\n",
    "            if data[i][0] not in art_mus.keys(): #trocou artista\n",
    "                art_mus[data[i][0]] = [data[i][2]]\n",
    "            else: #mesmo artista\n",
    "                art_mus[data[i][0]].append(data[i][2])\n",
    "    return art_mus"
   ]
  },
  {
   "cell_type": "code",
   "execution_count": 42,
   "metadata": {},
   "outputs": [],
   "source": [
    "def art_id_dict(playlist_id):\n",
    "    '''\n",
    "    Gera um dicionário: {artista: id do artista}\n",
    "    '''\n",
    "\n",
    "    id_art = {}\n",
    "\n",
    "    results = sp.user_playlist(user = charles_id, playlist_id = playlist_id, fields = \"tracks, next\")\n",
    "    tracks = results['tracks']\n",
    "\n",
    "    while tracks['next']: #passa pelos 10 conjuntos de tracks\n",
    "        tracks = sp.next(tracks)\n",
    "        data = calc_tuple(tracks)    \n",
    "\n",
    "        #inicializa o dicio com o primeiro artista deste cojunto\n",
    "        for i in range(len(data)): #rodará 100 vezes\n",
    "            id_art[data[i][0]] = [data[i][1]]\n",
    "    return id_art"
   ]
  },
  {
   "cell_type": "code",
   "execution_count": 43,
   "metadata": {
    "scrolled": true
   },
   "outputs": [],
   "source": [
    "def art_feats(art_mus):\n",
    "    '''\n",
    "    Gera um dicionário: {id do artista: {feats das músicas}}\n",
    "    '''\n",
    "\n",
    "    # https://developer.spotify.com/documentation/web-api/reference/object-model/#audio-features-object\n",
    "    art_feats = {}\n",
    "\n",
    "    # loop para obter as 'features' das músicas e adicionar à um novo dicio\n",
    "    for artist, songs in art_mus.items():\n",
    "        if (len(songs) > 49): # limitação na api do spotify de 'track features' é de 50 músicas\n",
    "            for song in songs:\n",
    "                if artist not in art_feats.keys():\n",
    "                    art_feats[artist] = [sp.audio_features(song)[0]]\n",
    "                else:\n",
    "                    art_feats[artist].append(sp.audio_features(song)[0])\n",
    "        else:\n",
    "            art_feats[artist] = sp.audio_features(songs)\n",
    "            feats = sp.audio_features(songs)\n",
    "    return art_feats"
   ]
  },
  {
   "cell_type": "code",
   "execution_count": 44,
   "metadata": {
    "scrolled": false
   },
   "outputs": [],
   "source": [
    "def mus_feats_dict(art_feats):\n",
    "    '''\n",
    "    Gera um dicionário: {id do artista: [feats médias]}\n",
    "    '''\n",
    "\n",
    "    art_mus_feats = {}\n",
    "    #  loop para obter as médias das 'features' das músicas de um artista\n",
    "    for artist, feats in art_feats.items():\n",
    "    #     print(type(feats))\n",
    "    #     print(artist)\n",
    "    #     for i in feats:\n",
    "    #         print(i)\n",
    "        art_mus_feats[artist] = {\n",
    "                'danceability': statistics.mean([x.get('danceability') for x in feats]),\n",
    "                'energy': statistics.mean([x.get('energy') for x in feats]),\n",
    "                'key': statistics.mean([x.get('key') for x in feats]),\n",
    "                'loudness': statistics.mean([x.get('loudness') for x in feats]),\n",
    "                'mode': statistics.mean([x.get('mode') for x in feats]),\n",
    "                'speechiness': statistics.mean([x.get('speechiness') for x in feats]),\n",
    "                'acousticness': statistics.mean([x.get('acousticness') for x in feats]),\n",
    "                'instrumentalness': statistics.mean([x.get('instrumentalness') for x in feats]),\n",
    "                'liveness': statistics.mean([x.get('liveness') for x in feats]),\n",
    "                'valence': statistics.mean([x.get('valence') for x in feats]),\n",
    "                'tempo': statistics.mean([x.get('tempo') for x in feats]),\n",
    "    #             '': statistics.mean([x.get('key') for x in feats]),\n",
    "    #             '': statistics.mean([x.get('key') for x in feats]),\n",
    "            }\n",
    "    return art_mus_feats"
   ]
  },
  {
   "cell_type": "code",
   "execution_count": 45,
   "metadata": {},
   "outputs": [],
   "source": [
    "def genre_feats(art_mus_feats, genre):\n",
    "    '''\n",
    "    Gera um dicionário: {Nome do gênero: [feats médias]}\n",
    "    '''\n",
    "\n",
    "    genre_feats = {}\n",
    "    #  loop para obter as médias das 'features' das músicas de um artista\n",
    "    genre_feats[genre] = {\n",
    "        'danceability': statistics.mean([x.get('danceability') for key,x in art_mus_feats.items()]),\n",
    "        'energy': statistics.mean([x.get('energy') for key,x in art_mus_feats.items()]),\n",
    "        'key': statistics.mean([x.get('key') for key,x in art_mus_feats.items()]),\n",
    "        'loudness': statistics.mean([x.get('loudness') for key,x in art_mus_feats.items()]),\n",
    "        'mode': statistics.mean([x.get('mode') for key,x in art_mus_feats.items()]),\n",
    "        'speechiness': statistics.mean([x.get('speechiness') for key,x in art_mus_feats.items()]),\n",
    "        'acousticness': statistics.mean([x.get('acousticness') for key,x in art_mus_feats.items()]),\n",
    "        'instrumentalness': statistics.mean([x.get('instrumentalness') for key,x in art_mus_feats.items()]),\n",
    "        'liveness': statistics.mean([x.get('liveness') for key,x in art_mus_feats.items()]),\n",
    "        'valence': statistics.mean([x.get('valence') for key,x in art_mus_feats.items()]),\n",
    "        'tempo': statistics.mean([x.get('tempo') for key,x in art_mus_feats.items()])\n",
    "    }\n",
    "\n",
    "    return genre_feats"
   ]
  },
  {
   "cell_type": "code",
   "execution_count": 46,
   "metadata": {},
   "outputs": [],
   "source": [
    "jazz_art_mus = art_mus_dict(jazz_id)\n",
    "bossa_art_mus = art_mus_dict(bossanova_id)"
   ]
  },
  {
   "cell_type": "code",
   "execution_count": 47,
   "metadata": {},
   "outputs": [],
   "source": [
    "jazz_art_id = art_id_dict(jazz_id)\n",
    "bossa_art_id = art_id_dict(bossanova_id)"
   ]
  },
  {
   "cell_type": "code",
   "execution_count": 48,
   "metadata": {},
   "outputs": [],
   "source": [
    "jazz_art_feats = art_feats(jazz_art_mus)\n",
    "bossa_art_feats = art_feats(bossa_art_mus)"
   ]
  },
  {
   "cell_type": "code",
   "execution_count": 49,
   "metadata": {},
   "outputs": [],
   "source": [
    "jazz_art_mus_feats = mus_feats_dict(jazz_art_feats)\n",
    "bossa_art_mus_feats = mus_feats_dict(bossa_art_feats)"
   ]
  },
  {
   "cell_type": "code",
   "execution_count": 51,
   "metadata": {
    "scrolled": true
   },
   "outputs": [
    {
     "name": "stdout",
     "output_type": "stream",
     "text": [
      "[('acousticness', '5M1PEUHGPirQtE9SjKLrMH', 0.959, 'max'), ('acousticness', '7zsxdMsODmHKTbTB00t9wS', 0.0312, 'min'), ('danceability', '5M1PEUHGPirQtE9SjKLrMH', 0.159, 'min'), ('danceability', '04dFhs355aJPkUXV9CwM3L', 0.776, 'max'), ('energy', '5RYHqDtvrm4QLsvcoOHmR9', 0.839, 'max'), ('energy', '2EZ5KFNGsDnn9PYgqWqn73', 0.185, 'min'), ('instrumentalness', '1j081CNX8swtqfQCXGUc4v', 0, 'min'), ('instrumentalness', '7ixbHztB2Y1LUtvCTCL9MZ', 0, 'min'), ('instrumentalness', '4cn4gMq0KXORHeYA45PcBi', 0, 'min'), ('instrumentalness', '4KtH5Ery1JspML3ECanPmZ', 0.959, 'max'), ('instrumentalness', '6aewGwsqlu1cmev2xBJoht', 0, 'min'), ('instrumentalness', '03zMprDSi8xGJbXYayx6ly', 0, 'min'), ('key', '0cWAA0nMjRXh8o61j3hUgm', 11, 'max'), ('key', '39H7b1PRozlNLdkWZhWG40', 0, 'min'), ('key', '5yrpqAQx2OwR62pNE7d5bm', 0, 'min'), ('key', '3cjV65izDdMmWE2LVwv2rb', 0, 'min'), ('key', '6LjzVtpQrLrjcTRgEwI2DM', 0, 'min'), ('liveness', '04dFhs355aJPkUXV9CwM3L', 0.0603, 'min'), ('liveness', '6O67GI6ayhWHyFmOOJRLEq', 0.7545, 'max'), ('loudness', '4KtH5Ery1JspML3ECanPmZ', -19.678, 'min'), ('loudness', '03zMprDSi8xGJbXYayx6ly', -4.195, 'max'), ('speechiness', '6mpinUbWcol0zWCAy6XLXu', 0.0262, 'min'), ('speechiness', '3LokxmaXXZpL7sLZASDzCS', 0.24755, 'max'), ('valence', '04dFhs355aJPkUXV9CwM3L', 0.971, 'max'), ('valence', '2EZ5KFNGsDnn9PYgqWqn73', 0.0919, 'min')]\n",
      "[('acousticness', '0DPDe1cl41tscTH0TE8Elu', 0.987, 'max'), ('acousticness', '5xdQf8ZY4CFEtt0LKztj32', 0.00703, 'min'), ('danceability', '273EXbTI4AKNTHjpdLOhRQ', 0.28, 'min'), ('danceability', '6pVkGhtBvjj1P52yn0tNLG', 0.8105, 'max'), ('energy', '7uFjZms2FHdipWrsQFljwt', 0.09108333333333334, 'min'), ('energy', '2LtqGCRMKbgeuUnq6OOOeP', 0.889, 'max'), ('instrumentalness', '273EXbTI4AKNTHjpdLOhRQ', 0, 'min'), ('instrumentalness', '6BufIg68WvvzrEqoDI19Kl', 0.952, 'max'), ('instrumentalness', '2LtqGCRMKbgeuUnq6OOOeP', 0, 'min'), ('instrumentalness', '6nN36mUa1k9LtQz2yPIg3I', 0, 'min'), ('instrumentalness', '1VEzN9lxvG6KPR3QQGsebR', 0, 'min'), ('instrumentalness', '6WRESl2Ifzu7zAK7b79vq5', 0, 'min'), ('instrumentalness', '1bgyxtWjZwA5PQlDsvs9b8', 0, 'min'), ('instrumentalness', '4MzEg0gydrdJ5DrwWIvPos', 0, 'min'), ('instrumentalness', '4R9za1HHBgmyVDxI0eyMkY', 0, 'min'), ('instrumentalness', '5JfKLVgubKePsQm3GEQlEV', 0, 'min'), ('key', '5cbutZUQE7SUCA6MsEMbBv', 0, 'min'), ('key', '2VSItkPmLJg1zckWeMdT01', 0, 'min'), ('key', '4iRZAbYvBqnxrbs6K25aJ7', 0, 'min'), ('key', '6aW20niQ1ZNYJBL9GBGiF7', 0, 'min'), ('key', '5vCwu9Fq2zig9wHrFMYC6I', 0, 'min'), ('key', '446r5jx8nCobPd8HOzaJRa', 0, 'min'), ('key', '1VEzN9lxvG6KPR3QQGsebR', 0, 'min'), ('key', '4F7Q5NV6h5TSwCainz8S5A', 11, 'max'), ('key', '4N8BwYTEC6XqykGvXXlmfv', 0, 'min'), ('key', '2jFZlvIea42ZvcCw4OeEdA', 0, 'min'), ('key', '4R9za1HHBgmyVDxI0eyMkY', 0, 'min'), ('liveness', '4iRZAbYvBqnxrbs6K25aJ7', 0.985, 'max'), ('liveness', '2oVwztjpHpJlAvlVVuqVa0', 0.0515, 'min'), ('loudness', '74Dnr5flGLfLeyV85l0NUr', -0.2003333333333333, 'max'), ('loudness', '2ADJtM4qX62maOl8JGxI94', -26.104909090909093, 'min'), ('speechiness', '0DPDe1cl41tscTH0TE8Elu', 0.24, 'max'), ('speechiness', '5GXruybcLmXPjR9rKKFyS6', 0.0258, 'min'), ('valence', '1pwr5rTWLVfqhvHfB7Reap', 0.2187, 'min'), ('valence', '6pVkGhtBvjj1P52yn0tNLG', 0.9644999999999999, 'max')]\n"
     ]
    }
   ],
   "source": [
    "lista = ['acousticness',  'danceability',  'energy',  'instrumentalness',  'key',  'liveness',  'loudness',  'speechiness',  'valence']\n",
    "extremos_jazz = []\n",
    "for i in lista:\n",
    "    jazz_max = max([x.get(i) for key,x in jazz_art_mus_feats.items()])\n",
    "    jazz_min = min([x.get(i) for key,x in jazz_art_mus_feats.items()])\n",
    "\n",
    "    for key, x in jazz_art_mus_feats.items():\n",
    "        if (x.get(i) == jazz_max):\n",
    "            extremos_jazz.append((i, key, jazz_max, \"max\"))\n",
    "        if (x.get(i) == jazz_min):\n",
    "            extremos_jazz.append((i, key, jazz_min, \"min\"))\n",
    "            \n",
    "extremos_bossa = []\n",
    "for i in lista:\n",
    "    bossa_max = max([x.get(i) for key,x in bossa_art_mus_feats.items()])\n",
    "    bossa_min = min([x.get(i) for key,x in bossa_art_mus_feats.items()])\n",
    "\n",
    "    for key, x in bossa_art_mus_feats.items():\n",
    "        if (x.get(i) == bossa_max):\n",
    "            extremos_bossa.append((i, key, bossa_max, \"max\"))\n",
    "        if (x.get(i) == bossa_min):\n",
    "            extremos_bossa.append((i, key, bossa_min, \"min\"))\n",
    "            \n",
    "print(extremos_bossa)\n",
    "print(extremos_jazz)"
   ]
  },
  {
   "cell_type": "code",
   "execution_count": 53,
   "metadata": {
    "scrolled": false
   },
   "outputs": [
    {
     "data": {
      "text/plain": [
       "{'acousticness': 0.5435,\n",
       " 'danceability': 0.8105,\n",
       " 'energy': 0.548,\n",
       " 'instrumentalness': 0.837,\n",
       " 'key': 10,\n",
       " 'liveness': 0.34199999999999997,\n",
       " 'loudness': -12.027999999999999,\n",
       " 'mode': 1,\n",
       " 'speechiness': 0.04625,\n",
       " 'tempo': 130.2375,\n",
       " 'valence': 0.9644999999999999}"
      ]
     },
     "execution_count": 53,
     "metadata": {},
     "output_type": "execute_result"
    }
   ],
   "source": [
    "jazz_art_mus_feats[\"6pVkGhtBvjj1P52yn0tNLG\"]"
   ]
  },
  {
   "cell_type": "code",
   "execution_count": 45,
   "metadata": {},
   "outputs": [],
   "source": [
    "jazz_feats = genre_feats(jazz_art_mus_feats, 'Jazz')\n",
    "bossa_feats = genre_feats(bossa_art_mus_feats, 'Bossa Nova')"
   ]
  },
  {
   "cell_type": "code",
   "execution_count": null,
   "metadata": {},
   "outputs": [],
   "source": [
    "#tupla com o id que tem valor maximo e o id que tem valor mínimo. \n",
    "#Para key e instrumentalness obtivemos diversas ocorrências do valor mínimo, por isso pegamos apenas uma das ocorrências do valor mínimo para cada um desses indicadores.\n",
    "combinacoes = [(\"5M1PEUHGPirQtE9SjKLrMH\",\"5xdQf8ZY4CFEtt0LKztj32\"),\n",
    "               (\"0DPDe1cl41tscTH0TE8Elu\", \"7zsxdMsODmHKTbTB00t9wS\"),\n",
    "               (\"04dFhs355aJPkUXV9CwM3L\", \"273EXbTI4AKNTHjpdLOhRQ\"),\n",
    "               (\"6pVkGhtBvjj1P52yn0tNLG\", \"5M1PEUHGPirQtE9SjKLrMH\"),\n",
    "               (\"5RYHqDtvrm4QLsvcoOHmR9\", \"7uFjZms2FHdipWrsQFljwt\"),\n",
    "               (\"2LtqGCRMKbgeuUnq6OOOeP\", \"2EZ5KFNGsDnn9PYgqWqn73\"),\n",
    "               (\"4KtH5Ery1JspML3ECanPmZ\", \"273EXbTI4AKNTHjpdLOhRQ\"),\n",
    "               (\"6BufIg68WvvzrEqoDI19Kl\", \"1j081CNX8swtqfQCXGUc4v\"),\n",
    "               (\"0cWAA0nMjRXh8o61j3hUgm\", \"5cbutZUQE7SUCA6MsEMbBv\"),\n",
    "               (\"4F7Q5NV6h5TSwCainz8S5A\", \"39H7b1PRozlNLdkWZhWG40\"),\n",
    "               (\"6O67GI6ayhWHyFmOOJRLEq\", \"2oVwztjpHpJlAvlVVuqVa0\"),\n",
    "               (\"4iRZAbYvBqnxrbs6K25aJ7\", \"04dFhs355aJPkUXV9CwM3L\"),\n",
    "               (\"03zMprDSi8xGJbXYayx6ly\", \"\"),\n",
    "               (\"\", \"4KtH5Ery1JspML3ECanPmZ\"),\n",
    "               (\"3LokxmaXXZpL7sLZASDzCS\", \"\"),\n",
    "               (\"\", \"6mpinUbWcol0zWCAy6XLXu\"),\n",
    "               (\"04dFhs355aJPkUXV9CwM3L\", \"\"),\n",
    "               (\"\", \"2EZ5KFNGsDnn9PYgqWqn73\")]"
   ]
  },
  {
   "cell_type": "code",
   "execution_count": null,
   "metadata": {},
   "outputs": [],
   "source": []
  },
  {
   "cell_type": "code",
   "execution_count": null,
   "metadata": {},
   "outputs": [],
   "source": []
  },
  {
   "cell_type": "code",
   "execution_count": null,
   "metadata": {},
   "outputs": [],
   "source": []
  },
  {
   "cell_type": "code",
   "execution_count": null,
   "metadata": {},
   "outputs": [],
   "source": []
  }
 ],
 "metadata": {
  "kernelspec": {
   "display_name": "Python 3",
   "language": "python",
   "name": "python3"
  },
  "language_info": {
   "codemirror_mode": {
    "name": "ipython",
    "version": 3
   },
   "file_extension": ".py",
   "mimetype": "text/x-python",
   "name": "python",
   "nbconvert_exporter": "python",
   "pygments_lexer": "ipython3",
   "version": "3.5.2"
  }
 },
 "nbformat": 4,
 "nbformat_minor": 2
}
